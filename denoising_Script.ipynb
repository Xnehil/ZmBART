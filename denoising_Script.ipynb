{
 "cells": [
  {
   "cell_type": "code",
   "execution_count": 2,
   "metadata": {},
   "outputs": [],
   "source": [
    "def readdata(fileName):  \n",
    "    temp_list = []\n",
    "    file = open(fileName, 'r') \n",
    "    Lines = file.readlines()\n",
    "    for line in Lines:    \n",
    "            temp_list.append(line.rstrip(\"\\n\"))\n",
    "    return temp_list "
   ]
  },
  {
   "cell_type": "code",
   "execution_count": 164,
   "metadata": {},
   "outputs": [],
   "source": [
    "import numpy as np\n",
    "def get_masked_input_and_labels(source):\n",
    "    temp_dict1 = {}\n",
    "    temp_dict2 = {}\n",
    "    for i, item in enumerate(source):\n",
    "        temp_dict1[item] = i\n",
    "    temp_dict1['<mask>'] = len(source)  \n",
    "    \n",
    "    for i, item in enumerate(source):\n",
    "        temp_dict2[i] = item\n",
    "    temp_dict2[len(source)] = '<mask>' \n",
    "    \n",
    "    mask_token_id= temp_dict1['<mask>']\n",
    "    encoded_texts = np.array([temp_dict1[item] for item in source])\n",
    "    # 15% BERT masking\n",
    "    inp_mask = np.random.rand(len(encoded_texts)) < 0.25\n",
    "    inp_mask[encoded_texts <= 4] = False\n",
    "    # Prepare input\n",
    "    encoded_texts_masked = np.copy(encoded_texts)\n",
    "    # Set input to [MASK] which is the last token for the 90% of tokens\n",
    "    # This means leaving 10% unchanged\n",
    "    inp_mask_2mask = inp_mask & (np.random.rand(*encoded_texts.shape) < 0.80)\n",
    "    encoded_texts_masked[\n",
    "        inp_mask_2mask\n",
    "    ] = mask_token_id  # mask token is the last in the dict\n",
    "\n",
    "    # Set 10% to a random token\n",
    "    inp_mask_2random = inp_mask_2mask & (np.random.rand(*encoded_texts.shape) < 2 / 8)\n",
    "    encoded_texts_masked[inp_mask_2random] = np.random.randint(\n",
    "        3, mask_token_id, inp_mask_2random.sum()\n",
    "    )\n",
    "\n",
    "    encoded_masked_texts = [temp_dict2[item] for item in encoded_texts_masked]\n",
    "    return  ' '.join(source[4:])+' \\n', ' '.join(encoded_masked_texts)+' \\n'"
   ]
  },
  {
   "cell_type": "code",
   "execution_count": 165,
   "metadata": {},
   "outputs": [],
   "source": [
    "hindi_data = readdata('English/en_2Mmono_train.spm.hi_IN')\n",
    "hindi_input_list = []\n",
    "hindi_target_list = []\n",
    "for data_point in hindi_data: \n",
    "    sentence = data_point.strip().split()\n",
    "    non_masked_sent, masked_sent = get_masked_input_and_labels(sentence)\n",
    "    hindi_input_list.append(masked_sent)\n",
    "    hindi_target_list.append(non_masked_sent) "
   ]
  },
  {
   "cell_type": "code",
   "execution_count": 179,
   "metadata": {},
   "outputs": [
    {
     "name": "stdout",
     "output_type": "stream",
     "text": [
      "2000000\n",
      "▁< 2 en > ▁Universiti es ▁say ▁that ▁even ▁the ▁new ▁£ 9,000 - a - year ▁tui tion ▁fees ▁for ▁British ▁and ▁European ▁Union ▁students ▁do ▁not ▁cover <mask> ▁costs <mask> ▁and <mask> <mask> ▁to ▁turn ▁to ▁foreign ers , ▁who ▁are ▁charge d ▁50 <mask> <mask> ▁more . \n",
      "\n",
      "▁Universiti es ▁say ▁that ▁even ▁the ▁new ▁£ 9,000 - a - year ▁tui tion ▁fees ▁for ▁British ▁and ▁European ▁Union ▁students ▁do ▁not ▁cover ▁their ▁costs , ▁and ▁they ▁need ▁to ▁turn ▁to ▁foreign ers , ▁who ▁are ▁charge d ▁50 ▁per ▁cent ▁more . \n",
      "\n"
     ]
    }
   ],
   "source": [
    "assert len(hindi_input_list) == len(hindi_target_list)    \n",
    "print(len(hindi_input_list))\n",
    "print(hindi_input_list[10000])\n",
    "print(hindi_target_list[10000])"
   ]
  },
  {
   "cell_type": "code",
   "execution_count": 185,
   "metadata": {},
   "outputs": [
    {
     "name": "stdout",
     "output_type": "stream",
     "text": [
      "2000000\n"
     ]
    }
   ],
   "source": [
    "ja_data = readdata('Japanese/ja_2Mmono_train.spm.hi_IN')\n",
    "print(len(ja_data))\n",
    "ja_input_list = []\n",
    "ja_target_list = []\n",
    "for data_point in ja_data: \n",
    "    sentence = data_point.strip().split()\n",
    "    non_masked_sent, masked_sent = get_masked_input_and_labels(sentence)\n",
    "    ja_input_list.append(masked_sent)\n",
    "    ja_target_list.append(non_masked_sent)"
   ]
  },
  {
   "cell_type": "code",
   "execution_count": 197,
   "metadata": {},
   "outputs": [
    {
     "name": "stdout",
     "output_type": "stream",
     "text": [
      "2000000\n",
      "▁< 2 ja > ▁ 世界 とは 、 つ <mask> に っている 限 的な 細 部 の <mask> <mask> から <mask> り 立 っている <mask> だから 。 \n",
      "\n",
      "▁ 世界 とは 、 つ ね に 極 限 的な 細 部 の 集 積 から 成 り 立 っている の だから 。 \n",
      "\n"
     ]
    }
   ],
   "source": [
    "assert len(ja_input_list) == len(ja_target_list)    \n",
    "print(len(ja_input_list))\n",
    "print(ja_input_list[100])\n",
    "print(ja_target_list[100])"
   ]
  },
  {
   "cell_type": "code",
   "execution_count": 198,
   "metadata": {},
   "outputs": [],
   "source": [
    "hi_data = readdata('Hindi/hi_2Mmono_train.spm.hi_IN')\n",
    "hi_input_list = []\n",
    "hi_target_list = []\n",
    "for data_point in hi_data: \n",
    "    sentence = data_point.strip().split()\n",
    "    non_masked_sent, masked_sent = get_masked_input_and_labels(sentence)\n",
    "    hi_input_list.append(masked_sent)\n",
    "    hi_target_list.append(non_masked_sent)"
   ]
  },
  {
   "cell_type": "code",
   "execution_count": 203,
   "metadata": {},
   "outputs": [
    {
     "name": "stdout",
     "output_type": "stream",
     "text": [
      "2000000\n",
      "▁< 2 hi > ▁टैक्स ▁लाभ <mask> <mask> चुर <mask> ▁के ▁प्रयास <mask> ए ई ▁सहित ▁कई ▁टैक्स ▁है वन <mask> ▁की ▁अर्थव्यवस्था <mask> <mask> ▁योगदान ▁कर ▁रहे ▁हैं । ▁दरअसल , ▁इन ▁देशों ▁में <mask> ▁खत्म ▁करने ▁की ▁रणनीति <mask> ▁जैसे ▁देशों ▁की ▁समान ांतर ▁अर्थव्यवस्था ▁का ▁लाभ ▁उठा ने <mask> ▁सोच ▁से ▁ही ▁प्रेरित ▁रही ▁है । \n",
      "\n",
      "▁टैक्स ▁बचाने ▁या ▁ चुर ाने ▁के ▁प्रयास ▁यू ए ई ▁सहित ▁कई ▁टैक्स ▁है वन ▁देशों ▁की ▁अर्थव्यवस्था ▁में ▁अपना ▁योगदान ▁कर ▁रहे ▁हैं । ▁दरअसल , ▁इन ▁देशों ▁में ▁टैक्स ▁खत्म ▁करने ▁की ▁रणनीति ▁भारत ▁जैसे ▁देशों ▁की ▁समान ांतर ▁अर्थव्यवस्था ▁का ▁लाभ ▁उठा ने ▁की ▁सोच ▁से ▁ही ▁प्रेरित ▁रही ▁है । \n",
      "\n"
     ]
    }
   ],
   "source": [
    "assert len(hi_input_list) == len(hi_target_list)    \n",
    "print(len(hi_input_list))\n",
    "print(hi_input_list[1000])\n",
    "print(hi_target_list[1000])"
   ]
  },
  {
   "cell_type": "code",
   "execution_count": 208,
   "metadata": {},
   "outputs": [],
   "source": [
    "input_list = []\n",
    "target_list = []\n",
    "for i in range(len(hi_input_list)*3):\n",
    "    input_list.append(hindi_input_list)\n",
    "    input_list.append(ja_input_list)\n",
    "    input_list.append(hi_input_list)\n",
    "    \n",
    "    target_list.append(hindi_target_list)\n",
    "    target_list.append(ja_target_list)\n",
    "    target_list.append(hi_target_list)"
   ]
  },
  {
   "cell_type": "code",
   "execution_count": null,
   "metadata": {},
   "outputs": [],
   "source": [
    "assert len(input_list) == len(target_list)    \n",
    "print(len(input_list))\n",
    "print(input_list[:6])\n",
    "print(\"*\"*100)\n",
    "print(target_list[:6])"
   ]
  },
  {
   "cell_type": "code",
   "execution_count": null,
   "metadata": {},
   "outputs": [],
   "source": []
  },
  {
   "cell_type": "code",
   "execution_count": 6,
   "metadata": {},
   "outputs": [],
   "source": [
    "file_mapping = {\n",
    "    'ja_2Mmono_train.hi_IN': final_mono_hindi\n",
    "}\n",
    "for k, v in file_mapping.items():\n",
    "    with open(f'{k}', 'w') as fp:\n",
    "        fp.writelines(v)"
   ]
  }
 ],
 "metadata": {
  "kernelspec": {
   "display_name": "Python 3",
   "language": "python",
   "name": "python3"
  },
  "language_info": {
   "codemirror_mode": {
    "name": "ipython",
    "version": 3
   },
   "file_extension": ".py",
   "mimetype": "text/x-python",
   "name": "python",
   "nbconvert_exporter": "python",
   "pygments_lexer": "ipython3",
   "version": "3.8.5"
  }
 },
 "nbformat": 4,
 "nbformat_minor": 4
}
